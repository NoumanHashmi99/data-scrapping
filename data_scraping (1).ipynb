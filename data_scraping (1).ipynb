{
 "cells": [
  {
   "cell_type": "markdown",
   "metadata": {
    "id": "p6YDs7wntOMT"
   },
   "source": [
    "> A notebook by Fahad Najeeb:\n",
    "\n"
   ]
  },
  {
   "cell_type": "markdown",
   "metadata": {
    "id": "nPjga9LesV91"
   },
   "source": [
    "# Introduction to Web Scraping\n",
    "<a id=\"introduction-to-web-scraping\"></a>\n",
    "\n",
    "### Web Scrapping :\n",
    "\n",
    "* Definition: Web scraping is the process of extracting data from websites. Instead of manually copying information, we use code to automatically retrieve and store it.\n",
    "* Use Cases: Collecting data for research, gathering news articles, scraping product reviews, tracking prices, and more.\n",
    "Ethics: Only scrape websites that allow it, respect terms of use, and avoid scraping sensitive or restricted data.\n",
    "* Ethics: Only scrape websites that allow it, respect terms of use, and avoid scraping sensitive or restricted data.\n",
    "\n",
    "\n",
    "\n",
    "\n",
    "[Back to Table of Contents](#table-of-contents)\n"
   ]
  },
  {
   "cell_type": "code",
   "execution_count": 1,
   "metadata": {
    "colab": {
     "base_uri": "https://localhost:8080/"
    },
    "id": "DLlWKPSyYncf",
    "outputId": "479bdfe8-9b94-43d3-e24d-0f1be2b22621"
   },
   "outputs": [
    {
     "name": "stdout",
     "output_type": "stream",
     "text": [
      "Collecting beautifulsoup4\n",
      "  Downloading beautifulsoup4-4.12.3-py3-none-any.whl (147 kB)\n",
      "     ------------------------------------ 147.9/147.9 kB 882.6 kB/s eta 0:00:00\n",
      "Requirement already satisfied: requests in c:\\users\\dell\\desktop\\pytorch\\myvenve\\lib\\site-packages (2.32.2)\n",
      "Collecting soupsieve>1.2\n",
      "  Downloading soupsieve-2.6-py3-none-any.whl (36 kB)\n",
      "Requirement already satisfied: charset-normalizer<4,>=2 in c:\\users\\dell\\desktop\\pytorch\\myvenve\\lib\\site-packages (from requests) (3.3.2)\n",
      "Requirement already satisfied: idna<4,>=2.5 in c:\\users\\dell\\desktop\\pytorch\\myvenve\\lib\\site-packages (from requests) (3.7)\n",
      "Requirement already satisfied: urllib3<3,>=1.21.1 in c:\\users\\dell\\desktop\\pytorch\\myvenve\\lib\\site-packages (from requests) (2.2.1)\n",
      "Requirement already satisfied: certifi>=2017.4.17 in c:\\users\\dell\\desktop\\pytorch\\myvenve\\lib\\site-packages (from requests) (2024.2.2)\n",
      "Installing collected packages: soupsieve, beautifulsoup4\n",
      "Successfully installed beautifulsoup4-4.12.3 soupsieve-2.6\n"
     ]
    },
    {
     "name": "stderr",
     "output_type": "stream",
     "text": [
      "\n",
      "[notice] A new release of pip available: 22.3.1 -> 24.3.1\n",
      "[notice] To update, run: python.exe -m pip install --upgrade pip\n"
     ]
    }
   ],
   "source": [
    "!pip install beautifulsoup4 requests\n"
   ]
  },
  {
   "cell_type": "code",
   "execution_count": 2,
   "metadata": {
    "colab": {
     "base_uri": "https://localhost:8080/"
    },
    "id": "nVw41FFnZzET",
    "outputId": "f23ca8e2-55d8-405e-e126-9558dc3f528b"
   },
   "outputs": [
    {
     "name": "stdout",
     "output_type": "stream",
     "text": [
      "Book data has been successfully exported to books_data.csv\n"
     ]
    }
   ],
   "source": [
    "from bs4 import BeautifulSoup\n",
    "import requests\n",
    "import csv\n",
    "\n",
    "# URL of the website\n",
    "url = \"https://books.toscrape.com/catalogue/category/books_1/index.html\"\n",
    "response = requests.get(url)\n",
    "soup = BeautifulSoup(response.text, \"html.parser\")\n",
    "\n",
    "# Preparing list to store book data\n",
    "books_data = [[\"Title\", \"Price\", \"Rating\", \"Availability\"]]\n",
    "\n",
    "# Find all book containers\n",
    "books = soup.find_all(\"article\", class_=\"product_pod\")\n",
    "\n",
    "# Loop through each book container to extract details\n",
    "for book in books:\n",
    "    # Extract book title\n",
    "    title = book.h3.a[\"title\"]\n",
    "\n",
    "    # Extract price\n",
    "    price = book.find(\"p\", class_=\"price_color\").text.strip()\n",
    "\n",
    "    # Extract rating (rating is represented by a class name, e.g., \"star-rating Three\")\n",
    "    rating_tag = book.find(\"p\", class_=\"star-rating\")\n",
    "    rating = rating_tag[\"class\"][1]  # Gets the second class, which is the rating\n",
    "\n",
    "    # Extract availability status\n",
    "    availability = book.find(\"p\", class_=\"instock availability\").text.strip()\n",
    "\n",
    "    # Append the extracted data to the list\n",
    "    books_data.append([title, price, rating, availability])\n",
    "\n",
    "# Write data to CSV\n",
    "with open(\"books_data.csv\", mode=\"w\", newline=\"\", encoding=\"utf-8\") as file:\n",
    "    writer = csv.writer(file)\n",
    "    writer.writerows(books_data)\n",
    "\n",
    "print(\"Book data has been successfully exported to books_data.csv\")\n"
   ]
  }
 ],
 "metadata": {
  "colab": {
   "provenance": []
  },
  "kernelspec": {
   "display_name": "torch_kernel",
   "language": "python",
   "name": "torch_kernel"
  },
  "language_info": {
   "codemirror_mode": {
    "name": "ipython",
    "version": 3
   },
   "file_extension": ".py",
   "mimetype": "text/x-python",
   "name": "python",
   "nbconvert_exporter": "python",
   "pygments_lexer": "ipython3",
   "version": "3.11.3"
  }
 },
 "nbformat": 4,
 "nbformat_minor": 0
}
